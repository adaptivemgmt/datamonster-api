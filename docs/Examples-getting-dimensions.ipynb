{
 "cells": [
  {
   "cell_type": "markdown",
   "metadata": {},
   "source": [
    "# Datamonster-API: Examples of getting dimensions (\"splits\")"
   ]
  },
  {
   "cell_type": "code",
   "execution_count": 1,
   "metadata": {
    "scrolled": true
   },
   "outputs": [
    {
     "name": "stderr",
     "output_type": "stream",
     "text": [
      "/Users/bto/code/VENVs/dm-api/lib/python3.7/site-packages/requests/__init__.py:91: RequestsDependencyWarning: urllib3 (1.25.1) or chardet (3.0.4) doesn't match a supported version!\n",
      "  RequestsDependencyWarning)\n"
     ]
    }
   ],
   "source": [
    "from datamonster_api import DataMonster, DimensionSet\n",
    "from pprint import pprint"
   ]
  },
  {
   "cell_type": "code",
   "execution_count": 2,
   "metadata": {},
   "outputs": [],
   "source": [
    "DM_API_SECRET = '5340386ed5b70958dd737b88584c6098'\n",
    "DM_API_KEY_ID = '9eff95ebd6273b1c4cb1b711aff96087'\n",
    "\n",
    "# omit `server` parameter to run against \"production\"\n",
    "dm = DataMonster(DM_API_KEY_ID, DM_API_SECRET,\n",
    "                 server='http://localhost:5000')"
   ]
  },
  {
   "cell_type": "markdown",
   "metadata": {},
   "source": [
    "## `DataMonster` `get_dimensions_for_datasource` method"
   ]
  },
  {
   "cell_type": "code",
   "execution_count": 3,
   "metadata": {},
   "outputs": [
    {
     "data": {
      "text/plain": [
       "<Datasource: Earnest Blended Index Panel Sales Normalized>"
      ]
     },
     "execution_count": 3,
     "metadata": {},
     "output_type": "execute_result"
    }
   ],
   "source": [
    "earnest = next(dm.get_datasources(query='Earnest'))\n",
    "earnest"
   ]
  },
  {
   "cell_type": "code",
   "execution_count": 4,
   "metadata": {},
   "outputs": [
    {
     "name": "stdout",
     "output_type": "stream",
     "text": [
      "{'max_date': '2019-06-29',\n",
      " 'min_date': '2013-04-03',\n",
      " 'row_count': 2278,\n",
      " 'split_combination': {'category': 'IHOP', 'section_pk': 599}}\n"
     ]
    }
   ],
   "source": [
    "for dim in dm.get_dimensions_for_datasource(earnest,\n",
    "                                            filters={'category': 'IHOP'}):\n",
    "    pprint(dim)"
   ]
  },
  {
   "cell_type": "code",
   "execution_count": 5,
   "metadata": {},
   "outputs": [
    {
     "data": {
      "text/plain": [
       "True"
      ]
     },
     "execution_count": 5,
     "metadata": {},
     "output_type": "execute_result"
    }
   ],
   "source": [
    "earnest_ihop_dims = dm.get_dimensions_for_datasource(\n",
    "                            earnest,\n",
    "                            filters={'category': 'IHOP'})\n",
    "isinstance(earnest_ihop_dims, DimensionSet)"
   ]
  },
  {
   "cell_type": "code",
   "execution_count": 6,
   "metadata": {},
   "outputs": [],
   "source": [
    "def print_DimensionSet_metadata(dimset):\n",
    "    print(\"min_date:\", dimset.min_date,\n",
    "          \"\\nmax_date:\", dimset.max_date,\n",
    "          \"\\nrow_count:\", dimset.row_count,\n",
    "          \"\\nlen (dimension count):\", len(dimset))   "
   ]
  },
  {
   "cell_type": "code",
   "execution_count": 7,
   "metadata": {},
   "outputs": [
    {
     "name": "stdout",
     "output_type": "stream",
     "text": [
      "min_date: 2013-04-03 \n",
      "max_date: 2019-06-29 \n",
      "row_count: 2278 \n",
      "len (dimension count): 1\n"
     ]
    }
   ],
   "source": [
    "print_DimensionSet_metadata(earnest_ihop_dims)"
   ]
  },
  {
   "cell_type": "markdown",
   "metadata": {},
   "source": [
    "\n",
    "## `Datasource` `get_dimensions` method"
   ]
  },
  {
   "cell_type": "code",
   "execution_count": 8,
   "metadata": {},
   "outputs": [],
   "source": [
    "a_1010data_source = next(dm.get_datasources(query='1010data Credit Sales Index'))"
   ]
  },
  {
   "cell_type": "code",
   "execution_count": 9,
   "metadata": {},
   "outputs": [
    {
     "name": "stdout",
     "output_type": "stream",
     "text": [
      "min_date: 2014-01-01 \n",
      "max_date: 2019-07-05 \n",
      "row_count: 996928 \n",
      "len (dimension count): 510\n"
     ]
    }
   ],
   "source": [
    "print_DimensionSet_metadata(a_1010data_source.get_dimensions())"
   ]
  },
  {
   "cell_type": "markdown",
   "metadata": {},
   "source": [
    "### Dimensions for `'1010data Credit Sales Index'`, company = THE GAP"
   ]
  },
  {
   "cell_type": "code",
   "execution_count": 10,
   "metadata": {
    "scrolled": true
   },
   "outputs": [],
   "source": [
    "the_gap = dm.get_company_by_ticker('GPS')"
   ]
  },
  {
   "cell_type": "code",
   "execution_count": 11,
   "metadata": {},
   "outputs": [
    {
     "name": "stdout",
     "output_type": "stream",
     "text": [
      "min_date: 2014-01-01 \n",
      "max_date: 2019-07-05 \n",
      "row_count: 8044 \n",
      "len (dimension count): 4\n"
     ]
    }
   ],
   "source": [
    "_1010_gap_dimensions = a_1010data_source.get_dimensions(company=the_gap)\n",
    "print_DimensionSet_metadata(_1010_gap_dimensions)"
   ]
  },
  {
   "cell_type": "code",
   "execution_count": 12,
   "metadata": {},
   "outputs": [
    {
     "name": "stdout",
     "output_type": "stream",
     "text": [
      "[{'max_date': '2019-07-05',\n",
      "  'min_date': '2014-01-01',\n",
      "  'row_count': 2011,\n",
      "  'split_combination': {'category': 'Banana Republic',\n",
      "                        'country': 'US',\n",
      "                        'ticker': 'GPS'}},\n",
      " {'max_date': '2019-07-05',\n",
      "  'min_date': '2014-01-01',\n",
      "  'row_count': 2011,\n",
      "  'split_combination': {'category': 'Gap Brand Overall',\n",
      "                        'country': 'US',\n",
      "                        'ticker': 'GPS'}},\n",
      " {'max_date': '2019-07-05',\n",
      "  'min_date': '2014-01-01',\n",
      "  'row_count': 2011,\n",
      "  'split_combination': {'category': 'Gap Overall',\n",
      "                        'country': 'US',\n",
      "                        'ticker': 'GPS'}},\n",
      " {'max_date': '2019-07-05',\n",
      "  'min_date': '2014-01-01',\n",
      "  'row_count': 2011,\n",
      "  'split_combination': {'category': 'Old Navy',\n",
      "                        'country': 'US',\n",
      "                        'ticker': 'GPS'}}]\n"
     ]
    }
   ],
   "source": [
    "pprint(list(_1010_gap_dimensions))"
   ]
  },
  {
   "cell_type": "markdown",
   "metadata": {},
   "source": [
    "### Dimensions for `'1010data Credit Sales Index'`, company = Pier 1 Imports (PIR)"
   ]
  },
  {
   "cell_type": "code",
   "execution_count": 13,
   "metadata": {},
   "outputs": [
    {
     "data": {
      "text/plain": [
       "<Company: PIER 1 IMPORTS>"
      ]
     },
     "execution_count": 13,
     "metadata": {},
     "output_type": "execute_result"
    }
   ],
   "source": [
    "# Another company for this datasource: Pier 1 Imports (ticker: PIR)\n",
    "pier1 = dm.get_company_by_ticker('PIR')\n",
    "pier1"
   ]
  },
  {
   "cell_type": "code",
   "execution_count": 14,
   "metadata": {},
   "outputs": [
    {
     "name": "stdout",
     "output_type": "stream",
     "text": [
      "[{'max_date': '2019-07-05',\n",
      "  'min_date': '2014-01-01',\n",
      "  'row_count': 2011,\n",
      "  'split_combination': {'category': 'Pier 1 Imports',\n",
      "                        'country': 'US',\n",
      "                        'ticker': 'PIR'}}]\n"
     ]
    }
   ],
   "source": [
    "_1010_pier1_dimensions = a_1010data_source.get_dimensions(company=pier1)\n",
    "pprint(list(_1010_pier1_dimensions))"
   ]
  },
  {
   "cell_type": "markdown",
   "metadata": {},
   "source": [
    "### Dimensions for `'1010data Credit Sales Index'`, companies = [The Gap, Pier 1 Imports]\n",
    "There are 5 = 4 + 1 dimensions:"
   ]
  },
  {
   "cell_type": "code",
   "execution_count": 15,
   "metadata": {},
   "outputs": [
    {
     "name": "stdout",
     "output_type": "stream",
     "text": [
      "min_date: 2014-01-01 \n",
      "max_date: 2019-07-05 \n",
      "row_count: 10055 \n",
      "len (dimension count): 5\n"
     ]
    }
   ],
   "source": [
    "# Here we use a list as the value of `company`; a tuple would also work.\n",
    "_1010_gps_pier1_dimensions = a_1010data_source.get_dimensions(\n",
    "                                                    company=[the_gap, pier1])\n",
    "print_DimensionSet_metadata(_1010_gps_pier1_dimensions)"
   ]
  },
  {
   "cell_type": "code",
   "execution_count": 16,
   "metadata": {},
   "outputs": [
    {
     "name": "stdout",
     "output_type": "stream",
     "text": [
      "[{'max_date': '2019-07-05',\n",
      "  'min_date': '2014-01-01',\n",
      "  'row_count': 2011,\n",
      "  'split_combination': {'category': 'Banana Republic',\n",
      "                        'country': 'US',\n",
      "                        'ticker': 'GPS'}},\n",
      " {'max_date': '2019-07-05',\n",
      "  'min_date': '2014-01-01',\n",
      "  'row_count': 2011,\n",
      "  'split_combination': {'category': 'Gap Brand Overall',\n",
      "                        'country': 'US',\n",
      "                        'ticker': 'GPS'}},\n",
      " {'max_date': '2019-07-05',\n",
      "  'min_date': '2014-01-01',\n",
      "  'row_count': 2011,\n",
      "  'split_combination': {'category': 'Gap Overall',\n",
      "                        'country': 'US',\n",
      "                        'ticker': 'GPS'}},\n",
      " {'max_date': '2019-07-05',\n",
      "  'min_date': '2014-01-01',\n",
      "  'row_count': 2011,\n",
      "  'split_combination': {'category': 'Old Navy',\n",
      "                        'country': 'US',\n",
      "                        'ticker': 'GPS'}},\n",
      " {'max_date': '2019-07-05',\n",
      "  'min_date': '2014-01-01',\n",
      "  'row_count': 2011,\n",
      "  'split_combination': {'category': 'Pier 1 Imports',\n",
      "                        'country': 'US',\n",
      "                        'ticker': 'PIR'}}]\n"
     ]
    }
   ],
   "source": [
    "pprint(list(_1010_gps_pier1_dimensions))"
   ]
  },
  {
   "cell_type": "markdown",
   "metadata": {},
   "source": [
    "### Other multiple-valued keywords"
   ]
  },
  {
   "cell_type": "markdown",
   "metadata": {},
   "source": [
    "#### Get dimensions for both `'Banana Republic'` and `'Old Navy'`, among the dimensions of The Gap"
   ]
  },
  {
   "cell_type": "code",
   "execution_count": 17,
   "metadata": {},
   "outputs": [
    {
     "name": "stdout",
     "output_type": "stream",
     "text": [
      "[{'max_date': '2019-07-05',\n",
      "  'min_date': '2014-01-01',\n",
      "  'row_count': 2011,\n",
      "  'split_combination': {'category': 'Banana Republic',\n",
      "                        'country': 'US',\n",
      "                        'ticker': 'GPS'}},\n",
      " {'max_date': '2019-07-05',\n",
      "  'min_date': '2014-01-01',\n",
      "  'row_count': 2011,\n",
      "  'split_combination': {'category': 'Old Navy',\n",
      "                        'country': 'US',\n",
      "                        'ticker': 'GPS'}}]\n"
     ]
    }
   ],
   "source": [
    "# Here we use a tuple as the value of `category`; a list would also work.\n",
    "_1010_gap_br_navy_dims = a_1010data_source.get_dimensions(\n",
    "                                                category=('Banana Republic', 'Old Navy'))\n",
    "pprint(list(_1010_gap_br_navy_dims))"
   ]
  },
  {
   "cell_type": "code",
   "execution_count": null,
   "metadata": {},
   "outputs": [],
   "source": []
  }
 ],
 "metadata": {
  "kernelspec": {
   "display_name": "Python 3",
   "language": "python",
   "name": "python3"
  },
  "language_info": {
   "codemirror_mode": {
    "name": "ipython",
    "version": 3
   },
   "file_extension": ".py",
   "mimetype": "text/x-python",
   "name": "python",
   "nbconvert_exporter": "python",
   "pygments_lexer": "ipython3",
   "version": "3.7.3"
  }
 },
 "nbformat": 4,
 "nbformat_minor": 1
}
